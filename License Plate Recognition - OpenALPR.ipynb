{
 "cells": [
  {
   "cell_type": "markdown",
   "metadata": {},
   "source": [
    "# License Plate Recognition"
   ]
  },
  {
   "cell_type": "code",
   "execution_count": 35,
   "metadata": {},
   "outputs": [],
   "source": [
    "# importing the necessary libraries\n",
    "\n",
    "import json\n",
    "import base64\n",
    "import requests"
   ]
  },
  {
   "cell_type": "code",
   "execution_count": 36,
   "metadata": {},
   "outputs": [],
   "source": [
    "# Loading and Pre-processing the Image\n",
    "\n",
    "image_path = \"car.jpg\"\n",
    "\n",
    "with open(image_path,\"rb\") as image_file:\n",
    "    img_base64 = base64.b64encode(image_file.read())"
   ]
  },
  {
   "cell_type": "code",
   "execution_count": 37,
   "metadata": {},
   "outputs": [],
   "source": [
    "# Request for accessing the openalpr web-service\n",
    "\n",
    "url = \"https://api.openalpr.com/v2/recognize_bytes?recognize_vehicle=1&country=us&secret_key=\"SECRET_KEY\"\"\n",
    "r   = requests.post(url,data=img_base64)"
   ]
  },
  {
   "cell_type": "code",
   "execution_count": 39,
   "metadata": {},
   "outputs": [
    {
     "name": "stdout",
     "output_type": "stream",
     "text": [
      "\"MY70BMW\"\n"
     ]
    }
   ],
   "source": [
    "# Determining the License Plate Number\n",
    "\n",
    "num_plate = (json.dumps(r.json(),indent=2))\n",
    "info      = (list(num_plate.split(\"candidates\")))\n",
    "plate     = info[1]\n",
    "plate     = plate.split(\",\")[0:3]\n",
    "p         = plate[1]\n",
    "p1        = p.split(\":\")\n",
    "number    =p1[1]\n",
    "number    = number.replace(' '' ',' ')\n",
    "number    = number.lstrip()\n",
    "print(number)"
   ]
  }
 ],
 "metadata": {
  "kernelspec": {
   "display_name": "Python 3",
   "language": "python",
   "name": "python3"
  },
  "language_info": {
   "codemirror_mode": {
    "name": "ipython",
    "version": 3
   },
   "file_extension": ".py",
   "mimetype": "text/x-python",
   "name": "python",
   "nbconvert_exporter": "python",
   "pygments_lexer": "ipython3",
   "version": "3.8.5"
  }
 },
 "nbformat": 4,
 "nbformat_minor": 4
}
